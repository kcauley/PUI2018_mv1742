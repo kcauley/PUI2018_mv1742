{
 "cells": [
  {
   "cell_type": "code",
   "execution_count": 1,
   "metadata": {},
   "outputs": [],
   "source": [
    "from __future__ import print_function #for compatibility beteen python2 and python3\n",
    "import os\n",
    "import pandas as pd"
   ]
  },
  {
   "cell_type": "code",
   "execution_count": 2,
   "metadata": {},
   "outputs": [
    {
     "name": "stdout",
     "output_type": "stream",
     "text": [
      "  % Total    % Received % Xferd  Average Speed   Time    Time     Time  Current\n",
      "                                 Dload  Upload   Total   Spent    Left  Speed\n",
      "100 11974    0 11974    0     0  63181      0 --:--:-- --:--:-- --:--:-- 63354\n"
     ]
    }
   ],
   "source": [
    "!curl https://data.cityofnewyork.us/resource/4a9z-q7pu.json > dhsdailyy.json\n",
    "url = \"https://data.cityofnewyork.us/resource/4a9z-q7pu.json\" \n",
    "df = pd.read_json(url)"
   ]
  },
  {
   "cell_type": "code",
   "execution_count": 3,
   "metadata": {},
   "outputs": [
    {
     "name": "stdout",
     "output_type": "stream",
     "text": [
      "PUIdata /nfshome/mv1742/PUIDATA\n"
     ]
    }
   ],
   "source": [
    "#create the env variable if missing\n",
    "os.environ[\"PUIDATA\"] = \"%s/PUIDATA\"%os.getenv(\"HOME\")\n",
    "\n",
    "print(\"PUIdata\", os.getenv(\"PUIDATA\"))"
   ]
  },
  {
   "cell_type": "code",
   "execution_count": 4,
   "metadata": {},
   "outputs": [],
   "source": [
    "# move the data\n",
    "!mv dhsdailyy.json $PUIDATA"
   ]
  },
  {
   "cell_type": "code",
   "execution_count": 5,
   "metadata": {},
   "outputs": [
    {
     "name": "stdout",
     "output_type": "stream",
     "text": [
      "dhsdaily.csv  dhsdailyy.json\r\n"
     ]
    }
   ],
   "source": [
    "!ls $PUIDATA"
   ]
  },
  {
   "cell_type": "code",
   "execution_count": 6,
   "metadata": {},
   "outputs": [
    {
     "data": {
      "text/html": [
       "<div>\n",
       "<table border=\"1\" class=\"dataframe\">\n",
       "  <thead>\n",
       "    <tr style=\"text-align: right;\">\n",
       "      <th></th>\n",
       "      <th>infant_deaths</th>\n",
       "      <th>infant_mortality_rate</th>\n",
       "      <th>materal_race_or_ethnicity</th>\n",
       "      <th>neonatal_infant_deaths</th>\n",
       "      <th>neonatal_mortality_rate</th>\n",
       "      <th>number_of_live_births</th>\n",
       "      <th>postneonatal_infant_deaths</th>\n",
       "      <th>postneonatal_mortality_rate</th>\n",
       "      <th>year</th>\n",
       "    </tr>\n",
       "  </thead>\n",
       "  <tbody>\n",
       "    <tr>\n",
       "      <th>0</th>\n",
       "      <td>287.0</td>\n",
       "      <td>9.8</td>\n",
       "      <td>Black Non-Hispanic</td>\n",
       "      <td>177.0</td>\n",
       "      <td>6.0</td>\n",
       "      <td>29268</td>\n",
       "      <td>110.0</td>\n",
       "      <td>3.8</td>\n",
       "      <td>2007</td>\n",
       "    </tr>\n",
       "    <tr>\n",
       "      <th>1</th>\n",
       "      <td>120.0</td>\n",
       "      <td>4.3</td>\n",
       "      <td>Other Hispanic</td>\n",
       "      <td>72.0</td>\n",
       "      <td>2.6</td>\n",
       "      <td>27621</td>\n",
       "      <td>48.0</td>\n",
       "      <td>1.7</td>\n",
       "      <td>2013</td>\n",
       "    </tr>\n",
       "    <tr>\n",
       "      <th>2</th>\n",
       "      <td>201.0</td>\n",
       "      <td>8.3</td>\n",
       "      <td>Black Non-Hispanic</td>\n",
       "      <td>132.0</td>\n",
       "      <td>5.5</td>\n",
       "      <td>24108</td>\n",
       "      <td>69.0</td>\n",
       "      <td>2.9</td>\n",
       "      <td>2013</td>\n",
       "    </tr>\n",
       "    <tr>\n",
       "      <th>3</th>\n",
       "      <td>125.0</td>\n",
       "      <td>3.3</td>\n",
       "      <td>White Non-Hispanic</td>\n",
       "      <td>82.0</td>\n",
       "      <td>2.1</td>\n",
       "      <td>38383</td>\n",
       "      <td>43.0</td>\n",
       "      <td>1.1</td>\n",
       "      <td>2008</td>\n",
       "    </tr>\n",
       "    <tr>\n",
       "      <th>4</th>\n",
       "      <td>259.0</td>\n",
       "      <td>9.5</td>\n",
       "      <td>Black Non-Hispanic</td>\n",
       "      <td>158.0</td>\n",
       "      <td>5.8</td>\n",
       "      <td>27405</td>\n",
       "      <td>101.0</td>\n",
       "      <td>3.7</td>\n",
       "      <td>2009</td>\n",
       "    </tr>\n",
       "    <tr>\n",
       "      <th>5</th>\n",
       "      <td>230.0</td>\n",
       "      <td>8.6</td>\n",
       "      <td>Black Non-Hispanic</td>\n",
       "      <td>148.0</td>\n",
       "      <td>5.6</td>\n",
       "      <td>26635</td>\n",
       "      <td>82.0</td>\n",
       "      <td>3.1</td>\n",
       "      <td>2010</td>\n",
       "    </tr>\n",
       "    <tr>\n",
       "      <th>6</th>\n",
       "      <td>104.0</td>\n",
       "      <td>2.8</td>\n",
       "      <td>White Non-Hispanic</td>\n",
       "      <td>75.0</td>\n",
       "      <td>2.0</td>\n",
       "      <td>37780</td>\n",
       "      <td>29.0</td>\n",
       "      <td>0.8</td>\n",
       "      <td>2010</td>\n",
       "    </tr>\n",
       "    <tr>\n",
       "      <th>7</th>\n",
       "      <td>210.0</td>\n",
       "      <td>8.1</td>\n",
       "      <td>Black Non-Hispanic</td>\n",
       "      <td>136.0</td>\n",
       "      <td>5.3</td>\n",
       "      <td>25825</td>\n",
       "      <td>74.0</td>\n",
       "      <td>2.9</td>\n",
       "      <td>2011</td>\n",
       "    </tr>\n",
       "  </tbody>\n",
       "</table>\n",
       "</div>"
      ],
      "text/plain": [
       "   infant_deaths  infant_mortality_rate materal_race_or_ethnicity  \\\n",
       "0          287.0                    9.8        Black Non-Hispanic   \n",
       "1          120.0                    4.3            Other Hispanic   \n",
       "2          201.0                    8.3        Black Non-Hispanic   \n",
       "3          125.0                    3.3        White Non-Hispanic   \n",
       "4          259.0                    9.5        Black Non-Hispanic   \n",
       "5          230.0                    8.6        Black Non-Hispanic   \n",
       "6          104.0                    2.8        White Non-Hispanic   \n",
       "7          210.0                    8.1        Black Non-Hispanic   \n",
       "\n",
       "   neonatal_infant_deaths  neonatal_mortality_rate  number_of_live_births  \\\n",
       "0                   177.0                      6.0                  29268   \n",
       "1                    72.0                      2.6                  27621   \n",
       "2                   132.0                      5.5                  24108   \n",
       "3                    82.0                      2.1                  38383   \n",
       "4                   158.0                      5.8                  27405   \n",
       "5                   148.0                      5.6                  26635   \n",
       "6                    75.0                      2.0                  37780   \n",
       "7                   136.0                      5.3                  25825   \n",
       "\n",
       "   postneonatal_infant_deaths  postneonatal_mortality_rate  year  \n",
       "0                       110.0                          3.8  2007  \n",
       "1                        48.0                          1.7  2013  \n",
       "2                        69.0                          2.9  2013  \n",
       "3                        43.0                          1.1  2008  \n",
       "4                       101.0                          3.7  2009  \n",
       "5                        82.0                          3.1  2010  \n",
       "6                        29.0                          0.8  2010  \n",
       "7                        74.0                          2.9  2011  "
      ]
     },
     "execution_count": 6,
     "metadata": {},
     "output_type": "execute_result"
    }
   ],
   "source": [
    "#print the fist 8 lines out\n",
    "df.head(8)"
   ]
  },
  {
   "cell_type": "code",
   "execution_count": 7,
   "metadata": {},
   "outputs": [
    {
     "data": {
      "text/plain": [
       "Index(['infant_deaths', 'infant_mortality_rate', 'materal_race_or_ethnicity',\n",
       "       'neonatal_infant_deaths', 'neonatal_mortality_rate',\n",
       "       'number_of_live_births', 'postneonatal_infant_deaths',\n",
       "       'postneonatal_mortality_rate', 'year'],\n",
       "      dtype='object')"
      ]
     },
     "execution_count": 7,
     "metadata": {},
     "output_type": "execute_result"
    }
   ],
   "source": [
    "#look at the columns available, those are the variables\n",
    "df.columns    "
   ]
  },
  {
   "cell_type": "code",
   "execution_count": 8,
   "metadata": {},
   "outputs": [
    {
     "data": {
      "text/plain": [
       "432"
      ]
     },
     "execution_count": 8,
     "metadata": {},
     "output_type": "execute_result"
    }
   ],
   "source": [
    "#count how many rows, those are the data points\n",
    "df.size"
   ]
  },
  {
   "cell_type": "code",
   "execution_count": 9,
   "metadata": {},
   "outputs": [],
   "source": [
    "df_3c = df[['year', 'neonatal_mortality_rate', 'number_of_live_births']]"
   ]
  },
  {
   "cell_type": "code",
   "execution_count": 10,
   "metadata": {},
   "outputs": [
    {
     "name": "stderr",
     "output_type": "stream",
     "text": [
      "/usr/local/Anaconda3-5.0.0-Linux-x86_64/envs/PUI2016_Python3/lib/python3.5/site-packages/pandas/core/frame.py:2754: SettingWithCopyWarning: \n",
      "A value is trying to be set on a copy of a slice from a DataFrame\n",
      "\n",
      "See the caveats in the documentation: http://pandas.pydata.org/pandas-docs/stable/indexing.html#indexing-view-versus-copy\n",
      "  **kwargs)\n"
     ]
    }
   ],
   "source": [
    "df_3c.rename(columns = {'year':'Year', \n",
    "               'neonatal_mortality_rate':'Neonatal Mortality Rate', \n",
    "               'number_of_live_births': 'Number of Live Births'}, inplace=True)"
   ]
  },
  {
   "cell_type": "code",
   "execution_count": 11,
   "metadata": {},
   "outputs": [
    {
     "data": {
      "text/html": [
       "<div>\n",
       "<table border=\"1\" class=\"dataframe\">\n",
       "  <thead>\n",
       "    <tr style=\"text-align: right;\">\n",
       "      <th></th>\n",
       "      <th>Year</th>\n",
       "      <th>Neonatal Mortality Rate</th>\n",
       "      <th>Number of Live Births</th>\n",
       "    </tr>\n",
       "  </thead>\n",
       "  <tbody>\n",
       "    <tr>\n",
       "      <th>0</th>\n",
       "      <td>2007</td>\n",
       "      <td>6.0</td>\n",
       "      <td>29268</td>\n",
       "    </tr>\n",
       "    <tr>\n",
       "      <th>1</th>\n",
       "      <td>2013</td>\n",
       "      <td>2.6</td>\n",
       "      <td>27621</td>\n",
       "    </tr>\n",
       "    <tr>\n",
       "      <th>2</th>\n",
       "      <td>2013</td>\n",
       "      <td>5.5</td>\n",
       "      <td>24108</td>\n",
       "    </tr>\n",
       "    <tr>\n",
       "      <th>3</th>\n",
       "      <td>2008</td>\n",
       "      <td>2.1</td>\n",
       "      <td>38383</td>\n",
       "    </tr>\n",
       "    <tr>\n",
       "      <th>4</th>\n",
       "      <td>2009</td>\n",
       "      <td>5.8</td>\n",
       "      <td>27405</td>\n",
       "    </tr>\n",
       "    <tr>\n",
       "      <th>5</th>\n",
       "      <td>2010</td>\n",
       "      <td>5.6</td>\n",
       "      <td>26635</td>\n",
       "    </tr>\n",
       "    <tr>\n",
       "      <th>6</th>\n",
       "      <td>2010</td>\n",
       "      <td>2.0</td>\n",
       "      <td>37780</td>\n",
       "    </tr>\n",
       "    <tr>\n",
       "      <th>7</th>\n",
       "      <td>2011</td>\n",
       "      <td>5.3</td>\n",
       "      <td>25825</td>\n",
       "    </tr>\n",
       "  </tbody>\n",
       "</table>\n",
       "</div>"
      ],
      "text/plain": [
       "   Year  Neonatal Mortality Rate  Number of Live Births\n",
       "0  2007                      6.0                  29268\n",
       "1  2013                      2.6                  27621\n",
       "2  2013                      5.5                  24108\n",
       "3  2008                      2.1                  38383\n",
       "4  2009                      5.8                  27405\n",
       "5  2010                      5.6                  26635\n",
       "6  2010                      2.0                  37780\n",
       "7  2011                      5.3                  25825"
      ]
     },
     "execution_count": 11,
     "metadata": {},
     "output_type": "execute_result"
    }
   ],
   "source": [
    "df_3c.head(8)"
   ]
  },
  {
   "cell_type": "code",
   "execution_count": 12,
   "metadata": {},
   "outputs": [
    {
     "name": "stdout",
     "output_type": "stream",
     "text": [
      "Populating the interactive namespace from numpy and matplotlib\n"
     ]
    }
   ],
   "source": [
    "%pylab inline"
   ]
  },
  {
   "cell_type": "code",
   "execution_count": 13,
   "metadata": {},
   "outputs": [
    {
     "data": {
      "text/plain": [
       "Text(0.5,1,'Figure 1')"
      ]
     },
     "execution_count": 13,
     "metadata": {},
     "output_type": "execute_result"
    },
    {
     "data": {
      "image/png": "[encoded data removed]",
      "text/plain": [
       "<matplotlib.figure.Figure at 0x7fa7a9b85ba8>"
      ]
     },
     "metadata": {},
     "output_type": "display_data"
    }
   ],
   "source": [
    "df_3c.plot(x='Year', y='Neonatal Mortality Rate', kind='scatter');\n",
    "#ax.set_ylabel(\"R\");\n",
    "# every plot needs a caption that explains to the reader \n",
    "# 1) WHAT what the reader is loooking at and \n",
    "# 2) WHY why the reader is looking at it here in the analysis \n",
    "#      (in this case there is no why cause this plot is not part of an analysis)\n",
    "# 3) TAKE HOME what is the take home point for the plot in the analysis \n",
    "#      (also there is no take home point here cause we are not doind an analysis but you can point out interesting features)\n",
    "plt.title('Figure 1', loc='center')"
   ]
  },
  {
   "cell_type": "markdown",
   "metadata": {},
   "source": [
    "Figure 1: Plot showing the infant Deaths againts years for different ethnic populations"
   ]
  }
 ],
 "metadata": {
  "kernelspec": {
   "display_name": "PUI2016_Python3",
   "language": "python",
   "name": "pui2016_python3"
  },
  "language_info": {
   "codemirror_mode": {
    "name": "ipython",
    "version": 3
   },
   "file_extension": ".py",
   "mimetype": "text/x-python",
   "name": "python",
   "nbconvert_exporter": "python",
   "pygments_lexer": "ipython3",
   "version": "3.5.4"
  }
 },
 "nbformat": 4,
 "nbformat_minor": 2
}
