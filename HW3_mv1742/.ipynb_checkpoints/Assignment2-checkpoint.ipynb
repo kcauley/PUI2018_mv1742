{
 "cells": [
  {
   "cell_type": "code",
   "execution_count": 1,
   "metadata": {},
   "outputs": [],
   "source": [
    "from __future__ import print_function #for compatibility beteen python2 and python3\n",
    "import os\n",
    "import pandas as pd"
   ]
  },
  {
   "cell_type": "code",
   "execution_count": 13,
   "metadata": {},
   "outputs": [
    {
     "name": "stdout",
     "output_type": "stream",
     "text": [
      "  % Total    % Received % Xferd  Average Speed   Time    Time     Time  Current\n",
      "                                 Dload  Upload   Total   Spent    Left  Speed\n",
      "100 10.9M    0 10.9M    0     0  3525k      0 --:--:--  0:00:03 --:--:-- 3526k\n"
     ]
    }
   ],
   "source": [
    "!curl https://data.cityofnewyork.us/api/views/8vgb-zm6e/rows.csv?accessType=DOWNLOAD > dhsdaily.csv\n",
    "\n",
    "    #Data regarding Revised_Notice_of_Property_Value__RNOPV_"
   ]
  },
  {
   "cell_type": "code",
   "execution_count": 17,
   "metadata": {},
   "outputs": [
    {
     "name": "stdout",
     "output_type": "stream",
     "text": [
      "PUIdata /nfshome/mv1742/PUIDATA\n"
     ]
    }
   ],
   "source": [
    "create the env variable if missing\n",
    "\n",
    "os.environ[\"PUIDATA\"] = \"%s/PUIDATA\"%os.getenv(\"HOME\")\n",
    "\n",
    "print(\"PUIdata\", os.getenv(\"PUIdata\"))"
   ]
  },
  {
   "cell_type": "code",
   "execution_count": 18,
   "metadata": {},
   "outputs": [
    {
     "name": "stdout",
     "output_type": "stream",
     "text": [
      "mv: 'dhsdaily.csv' and '/nfshome/mv1742/PUIDATA/dhsdaily.csv' are the same file\r\n"
     ]
    }
   ],
   "source": [
    "# move the data\n",
    "!mv dhsdaily.csv $PUIDATA"
   ]
  },
  {
   "cell_type": "code",
   "execution_count": 19,
   "metadata": {},
   "outputs": [
    {
     "name": "stdout",
     "output_type": "stream",
     "text": [
      "Assignment2_ExtraCredit.ipynb  Assignment2.ipynb  dhsdaily.csv\r\n"
     ]
    }
   ],
   "source": [
    "!ls $PUIDATA"
   ]
  },
  {
   "cell_type": "code",
   "execution_count": 20,
   "metadata": {},
   "outputs": [
    {
     "name": "stderr",
     "output_type": "stream",
     "text": [
      "/usr/local/Anaconda3-5.0.0-Linux-x86_64/envs/PUI2016_Python3/lib/python3.5/site-packages/IPython/core/interactiveshell.py:2717: DtypeWarning: Columns (29) have mixed types. Specify dtype option on import or set low_memory=False.\n",
      "  interactivity=interactivity, compiler=compiler, result=result)\n"
     ]
    }
   ],
   "source": [
    "dhs = pd.read_csv(\"%s/dhsdaily.csv\"%os.getenv(\"PUIDATA\"))"
   ]
  },
  {
   "cell_type": "code",
   "execution_count": 21,
   "metadata": {},
   "outputs": [
    {
     "data": {
      "text/html": [
       "<div>\n",
       "<table border=\"1\" class=\"dataframe\">\n",
       "  <thead>\n",
       "    <tr style=\"text-align: right;\">\n",
       "      <th></th>\n",
       "      <th>MAILED DATE</th>\n",
       "      <th>BOROCODE</th>\n",
       "      <th>BLOCK</th>\n",
       "      <th>LOT</th>\n",
       "      <th>EASE</th>\n",
       "      <th>NAME</th>\n",
       "      <th>Address 1</th>\n",
       "      <th>Address 2</th>\n",
       "      <th>Address 3</th>\n",
       "      <th>City, State, Zip</th>\n",
       "      <th>...</th>\n",
       "      <th>Borough</th>\n",
       "      <th>Postcode</th>\n",
       "      <th>Latitude</th>\n",
       "      <th>Longitude</th>\n",
       "      <th>Community Board</th>\n",
       "      <th>Council District</th>\n",
       "      <th>Census Tract</th>\n",
       "      <th>BIN</th>\n",
       "      <th>BBL</th>\n",
       "      <th>NTA</th>\n",
       "    </tr>\n",
       "  </thead>\n",
       "  <tbody>\n",
       "    <tr>\n",
       "      <th>0</th>\n",
       "      <td>02/23/2016</td>\n",
       "      <td>1</td>\n",
       "      <td>343</td>\n",
       "      <td>61</td>\n",
       "      <td>NaN</td>\n",
       "      <td>KING, LINDA                                   ...</td>\n",
       "      <td></td>\n",
       "      <td>65        PITT ST</td>\n",
       "      <td></td>\n",
       "      <td>NEW YORK             NY 10002-3504</td>\n",
       "      <td>...</td>\n",
       "      <td>MANHATTAN</td>\n",
       "      <td>10002.0</td>\n",
       "      <td>40.717979</td>\n",
       "      <td>-73.982666</td>\n",
       "      <td>3.0</td>\n",
       "      <td>1.0</td>\n",
       "      <td>12.0</td>\n",
       "      <td>1077600.0</td>\n",
       "      <td>1.003430e+09</td>\n",
       "      <td>Lower East Side                               ...</td>\n",
       "    </tr>\n",
       "    <tr>\n",
       "      <th>1</th>\n",
       "      <td>02/23/2016</td>\n",
       "      <td>1</td>\n",
       "      <td>542</td>\n",
       "      <td>42</td>\n",
       "      <td>NaN</td>\n",
       "      <td>DIANA BURROUGHS                               ...</td>\n",
       "      <td></td>\n",
       "      <td>155       JOHNSON RD</td>\n",
       "      <td></td>\n",
       "      <td>FALLS VILLAGE        CT 06031-1618</td>\n",
       "      <td>...</td>\n",
       "      <td>NaN</td>\n",
       "      <td>NaN</td>\n",
       "      <td>NaN</td>\n",
       "      <td>NaN</td>\n",
       "      <td>NaN</td>\n",
       "      <td>NaN</td>\n",
       "      <td>NaN</td>\n",
       "      <td>NaN</td>\n",
       "      <td>NaN</td>\n",
       "      <td>NaN</td>\n",
       "    </tr>\n",
       "    <tr>\n",
       "      <th>2</th>\n",
       "      <td>02/23/2016</td>\n",
       "      <td>1</td>\n",
       "      <td>615</td>\n",
       "      <td>23</td>\n",
       "      <td>NaN</td>\n",
       "      <td>FALCONE , MIMI SHERATON                       ...</td>\n",
       "      <td></td>\n",
       "      <td>248       W 12TH ST</td>\n",
       "      <td></td>\n",
       "      <td>NEW YORK             NY 10014-1912</td>\n",
       "      <td>...</td>\n",
       "      <td>MANHATTAN</td>\n",
       "      <td>10014.0</td>\n",
       "      <td>40.737605</td>\n",
       "      <td>-74.002746</td>\n",
       "      <td>2.0</td>\n",
       "      <td>3.0</td>\n",
       "      <td>77.0</td>\n",
       "      <td>1011012.0</td>\n",
       "      <td>1.006150e+09</td>\n",
       "      <td>West Village                                  ...</td>\n",
       "    </tr>\n",
       "    <tr>\n",
       "      <th>3</th>\n",
       "      <td>02/23/2016</td>\n",
       "      <td>1</td>\n",
       "      <td>631</td>\n",
       "      <td>26</td>\n",
       "      <td>NaN</td>\n",
       "      <td>271 WEST 10TH STREET LLC                      ...</td>\n",
       "      <td></td>\n",
       "      <td>60        FERNWOOD RD</td>\n",
       "      <td></td>\n",
       "      <td>SUMMIT               NJ 07901-2954</td>\n",
       "      <td>...</td>\n",
       "      <td>NaN</td>\n",
       "      <td>NaN</td>\n",
       "      <td>NaN</td>\n",
       "      <td>NaN</td>\n",
       "      <td>NaN</td>\n",
       "      <td>NaN</td>\n",
       "      <td>NaN</td>\n",
       "      <td>NaN</td>\n",
       "      <td>NaN</td>\n",
       "      <td>NaN</td>\n",
       "    </tr>\n",
       "    <tr>\n",
       "      <th>4</th>\n",
       "      <td>02/23/2016</td>\n",
       "      <td>1</td>\n",
       "      <td>717</td>\n",
       "      <td>63</td>\n",
       "      <td>NaN</td>\n",
       "      <td>438 WEST 20 STREET LLC                        ...</td>\n",
       "      <td>D. DAVIS</td>\n",
       "      <td>225       5TH AVE</td>\n",
       "      <td>OFC 3</td>\n",
       "      <td>NEW YORK             NY 10010-1133</td>\n",
       "      <td>...</td>\n",
       "      <td>MANHATTAN</td>\n",
       "      <td>10010.0</td>\n",
       "      <td>40.743827</td>\n",
       "      <td>-73.987907</td>\n",
       "      <td>5.0</td>\n",
       "      <td>2.0</td>\n",
       "      <td>56.0</td>\n",
       "      <td>1087263.0</td>\n",
       "      <td>1.008568e+09</td>\n",
       "      <td>Hudson Yards-Chelsea-Flatiron-Union Square    ...</td>\n",
       "    </tr>\n",
       "    <tr>\n",
       "      <th>5</th>\n",
       "      <td>02/23/2016</td>\n",
       "      <td>1</td>\n",
       "      <td>741</td>\n",
       "      <td>5</td>\n",
       "      <td>NaN</td>\n",
       "      <td>CHELSEA BOYS DEVELOPERS, LLC                  ...</td>\n",
       "      <td></td>\n",
       "      <td>894       6TH AVE</td>\n",
       "      <td>FRNT 4</td>\n",
       "      <td>NEW YORK             NY 10001-3508</td>\n",
       "      <td>...</td>\n",
       "      <td>MANHATTAN</td>\n",
       "      <td>10001.0</td>\n",
       "      <td>40.748340</td>\n",
       "      <td>-73.988830</td>\n",
       "      <td>5.0</td>\n",
       "      <td>3.0</td>\n",
       "      <td>76.0</td>\n",
       "      <td>1015834.0</td>\n",
       "      <td>1.008330e+09</td>\n",
       "      <td>Midtown-Midtown South                         ...</td>\n",
       "    </tr>\n",
       "    <tr>\n",
       "      <th>6</th>\n",
       "      <td>02/23/2016</td>\n",
       "      <td>1</td>\n",
       "      <td>885</td>\n",
       "      <td>57</td>\n",
       "      <td>NaN</td>\n",
       "      <td>YUNG BROTHERS REAL ESTATE CO., INC.           ...</td>\n",
       "      <td></td>\n",
       "      <td>142       E 30TH ST</td>\n",
       "      <td></td>\n",
       "      <td>NEW YORK             NY 10016-7319</td>\n",
       "      <td>...</td>\n",
       "      <td>MANHATTAN</td>\n",
       "      <td>10016.0</td>\n",
       "      <td>40.743700</td>\n",
       "      <td>-73.981155</td>\n",
       "      <td>6.0</td>\n",
       "      <td>2.0</td>\n",
       "      <td>72.0</td>\n",
       "      <td>1077027.0</td>\n",
       "      <td>1.008850e+09</td>\n",
       "      <td>Murray Hill-Kips Bay                          ...</td>\n",
       "    </tr>\n",
       "  </tbody>\n",
       "</table>\n",
       "<p>7 rows × 40 columns</p>\n",
       "</div>"
      ],
      "text/plain": [
       "  MAILED DATE  BOROCODE  BLOCK  LOT  EASE  \\\n",
       "0  02/23/2016         1    343   61   NaN   \n",
       "1  02/23/2016         1    542   42   NaN   \n",
       "2  02/23/2016         1    615   23   NaN   \n",
       "3  02/23/2016         1    631   26   NaN   \n",
       "4  02/23/2016         1    717   63   NaN   \n",
       "5  02/23/2016         1    741    5   NaN   \n",
       "6  02/23/2016         1    885   57   NaN   \n",
       "\n",
       "                                              NAME    \\\n",
       "0  KING, LINDA                                   ...   \n",
       "1  DIANA BURROUGHS                               ...   \n",
       "2  FALCONE , MIMI SHERATON                       ...   \n",
       "3  271 WEST 10TH STREET LLC                      ...   \n",
       "4  438 WEST 20 STREET LLC                        ...   \n",
       "5  CHELSEA BOYS DEVELOPERS, LLC                  ...   \n",
       "6  YUNG BROTHERS REAL ESTATE CO., INC.           ...   \n",
       "\n",
       "                        Address 1                      Address 2   \\\n",
       "0                                  65        PITT ST                \n",
       "1                                  155       JOHNSON RD             \n",
       "2                                  248       W 12TH ST              \n",
       "3                                  60        FERNWOOD RD            \n",
       "4  D. DAVIS                        225       5TH AVE                \n",
       "5                                  894       6TH AVE                \n",
       "6                                  142       E 30TH ST              \n",
       "\n",
       "                       Address 3                    City, State, Zip   \\\n",
       "0                                  NEW YORK             NY 10002-3504   \n",
       "1                                  FALLS VILLAGE        CT 06031-1618   \n",
       "2                                  NEW YORK             NY 10014-1912   \n",
       "3                                  SUMMIT               NJ 07901-2954   \n",
       "4  OFC 3                           NEW YORK             NY 10010-1133   \n",
       "5  FRNT 4                          NEW YORK             NY 10001-3508   \n",
       "6                                  NEW YORK             NY 10016-7319   \n",
       "\n",
       "                         ...                            Borough  Postcode  \\\n",
       "0                        ...                          MANHATTAN   10002.0   \n",
       "1                        ...                                NaN       NaN   \n",
       "2                        ...                          MANHATTAN   10014.0   \n",
       "3                        ...                                NaN       NaN   \n",
       "4                        ...                          MANHATTAN   10010.0   \n",
       "5                        ...                          MANHATTAN   10001.0   \n",
       "6                        ...                          MANHATTAN   10016.0   \n",
       "\n",
       "    Latitude  Longitude  Community Board  Council District   Census Tract  \\\n",
       "0  40.717979 -73.982666              3.0                1.0          12.0   \n",
       "1        NaN        NaN              NaN                NaN           NaN   \n",
       "2  40.737605 -74.002746              2.0                3.0          77.0   \n",
       "3        NaN        NaN              NaN                NaN           NaN   \n",
       "4  40.743827 -73.987907              5.0                2.0          56.0   \n",
       "5  40.748340 -73.988830              5.0                3.0          76.0   \n",
       "6  40.743700 -73.981155              6.0                2.0          72.0   \n",
       "\n",
       "         BIN           BBL                                                NTA  \n",
       "0  1077600.0  1.003430e+09  Lower East Side                               ...  \n",
       "1        NaN           NaN                                                NaN  \n",
       "2  1011012.0  1.006150e+09  West Village                                  ...  \n",
       "3        NaN           NaN                                                NaN  \n",
       "4  1087263.0  1.008568e+09  Hudson Yards-Chelsea-Flatiron-Union Square    ...  \n",
       "5  1015834.0  1.008330e+09  Midtown-Midtown South                         ...  \n",
       "6  1077027.0  1.008850e+09  Murray Hill-Kips Bay                          ...  \n",
       "\n",
       "[7 rows x 40 columns]"
      ]
     },
     "execution_count": 21,
     "metadata": {},
     "output_type": "execute_result"
    }
   ],
   "source": [
    "#print the fist 8 lines out\n",
    "dhs.head(7)"
   ]
  },
  {
   "cell_type": "code",
   "execution_count": 24,
   "metadata": {},
   "outputs": [
    {
     "data": {
      "text/plain": [
       "Index(['MAILED DATE', 'BOROCODE', 'BLOCK', 'LOT', 'EASE', 'NAME  ',\n",
       "       'Address 1', 'Address 2 ', 'Address 3 ', 'City, State, Zip ',\n",
       "       'Country ', 'TAX CLASS', 'BLD Class', 'ORIGINAL MARKET VALUE',\n",
       "       'ORIGINAL ASSESSED VALUE', 'ORIGINAL EXEMPTION',\n",
       "       'ORIGINAL TRANSITIONAL  ASSESSED VALUE ',\n",
       "       'ORIGINAL TRANSITIONAL EXEMPTION', 'ORIGINAL TAXABLE VALUE',\n",
       "       'REVISED MARKET VALUE', 'REVISED ASSESSED VALUE', 'REVISED  EXEMPTION',\n",
       "       'REVISED TRANSITIONAL ASSESSED VALUE', 'REVISED TRANSITIONAL EXEMPTION',\n",
       "       'REVISED TAXABLE VALUE', 'RC 1', 'RC2', 'RC3', 'RC4', 'RC5', 'Borough',\n",
       "       'Postcode', 'Latitude', 'Longitude', 'Community Board',\n",
       "       'Council District ', 'Census Tract', 'BIN', 'BBL', 'NTA'],\n",
       "      dtype='object')"
      ]
     },
     "execution_count": 24,
     "metadata": {},
     "output_type": "execute_result"
    }
   ],
   "source": [
    "#look at the columns available, those are the variables\n",
    "dhs.columns    "
   ]
  },
  {
   "cell_type": "code",
   "execution_count": 25,
   "metadata": {},
   "outputs": [
    {
     "data": {
      "text/plain": [
       "1092480"
      ]
     },
     "execution_count": 25,
     "metadata": {},
     "output_type": "execute_result"
    }
   ],
   "source": [
    "#count how many rows, those are the data points\n",
    "dhs.size"
   ]
  },
  {
   "cell_type": "code",
   "execution_count": 26,
   "metadata": {},
   "outputs": [],
   "source": [
    "#select 2 columns only for plotting\n",
    "dhs_2c = dhs[['REVISED TAXABLE VALUE', 'ORIGINAL ASSESSED VALUE']]"
   ]
  },
  {
   "cell_type": "code",
   "execution_count": 27,
   "metadata": {},
   "outputs": [
    {
     "data": {
      "text/html": [
       "<div>\n",
       "<table border=\"1\" class=\"dataframe\">\n",
       "  <thead>\n",
       "    <tr style=\"text-align: right;\">\n",
       "      <th></th>\n",
       "      <th>REVISED TAXABLE VALUE</th>\n",
       "      <th>ORIGINAL ASSESSED VALUE</th>\n",
       "    </tr>\n",
       "  </thead>\n",
       "  <tbody>\n",
       "    <tr>\n",
       "      <th>0</th>\n",
       "      <td>56830.0</td>\n",
       "      <td>62520.0</td>\n",
       "    </tr>\n",
       "    <tr>\n",
       "      <th>1</th>\n",
       "      <td>95370.0</td>\n",
       "      <td>96920.0</td>\n",
       "    </tr>\n",
       "    <tr>\n",
       "      <th>2</th>\n",
       "      <td>131890.0</td>\n",
       "      <td>140340.0</td>\n",
       "    </tr>\n",
       "    <tr>\n",
       "      <th>3</th>\n",
       "      <td>316209.0</td>\n",
       "      <td>316209.0</td>\n",
       "    </tr>\n",
       "    <tr>\n",
       "      <th>4</th>\n",
       "      <td>321758.0</td>\n",
       "      <td>321758.0</td>\n",
       "    </tr>\n",
       "    <tr>\n",
       "      <th>5</th>\n",
       "      <td>465612.0</td>\n",
       "      <td>465612.0</td>\n",
       "    </tr>\n",
       "    <tr>\n",
       "      <th>6</th>\n",
       "      <td>208810.0</td>\n",
       "      <td>208810.0</td>\n",
       "    </tr>\n",
       "  </tbody>\n",
       "</table>\n",
       "</div>"
      ],
      "text/plain": [
       "   REVISED TAXABLE VALUE  ORIGINAL ASSESSED VALUE\n",
       "0                56830.0                  62520.0\n",
       "1                95370.0                  96920.0\n",
       "2               131890.0                 140340.0\n",
       "3               316209.0                 316209.0\n",
       "4               321758.0                 321758.0\n",
       "5               465612.0                 465612.0\n",
       "6               208810.0                 208810.0"
      ]
     },
     "execution_count": 27,
     "metadata": {},
     "output_type": "execute_result"
    }
   ],
   "source": [
    "dhs_2c.head(7)"
   ]
  },
  {
   "cell_type": "code",
   "execution_count": 28,
   "metadata": {},
   "outputs": [],
   "source": [
    "#dhs_2c.plot(x='REVISED TAXABLE VALUE', y='ORIGINAL ASSESSED VALUE')"
   ]
  },
  {
   "cell_type": "code",
   "execution_count": 29,
   "metadata": {},
   "outputs": [
    {
     "name": "stdout",
     "output_type": "stream",
     "text": [
      "Populating the interactive namespace from numpy and matplotlib\n"
     ]
    }
   ],
   "source": [
    "%pylab inline"
   ]
  },
  {
   "cell_type": "code",
   "execution_count": 30,
   "metadata": {},
   "outputs": [
    {
     "data": {
      "text/plain": [
       "Text(0.5,1,'Figure 1')"
      ]
     },
     "execution_count": 30,
     "metadata": {},
     "output_type": "execute_result"
    },
    {
     "data": {
      "image/png": "[encoded data removed]",
      "text/plain": [
       "<matplotlib.figure.Figure at 0x7f7bc82ff898>"
      ]
     },
     "metadata": {},
     "output_type": "display_data"
    }
   ],
   "source": [
    "dhs_2c.plot(x='REVISED TAXABLE VALUE', y='ORIGINAL ASSESSED VALUE', kind='scatter');\n",
    "# every plot needs a caption that explains to the reader \n",
    "# 1) WHAT what the reader is loooking at and \n",
    "# 2) WHY why the reader is looking at it here in the analysis \n",
    "#      (in this case there is no why cause this plot is not part of an analysis)\n",
    "# 3) TAKE HOME what is the take home point for the plot in the analysis \n",
    "#      (also there is no take home point here cause we are not doind an analysis but you can point out interesting features)\n",
    "plt.title('Figure 1', loc='center')\n"
   ]
  },
  {
   "cell_type": "markdown",
   "metadata": {},
   "source": [
    "Figure 1: Revised Taxable vs Original Assessed Value"
   ]
  }
 ],
 "metadata": {
  "kernelspec": {
   "display_name": "PUI2016_Python3",
   "language": "python",
   "name": "pui2016_python3"
  },
  "language_info": {
   "codemirror_mode": {
    "name": "ipython",
    "version": 3
   },
   "file_extension": ".py",
   "mimetype": "text/x-python",
   "name": "python",
   "nbconvert_exporter": "python",
   "pygments_lexer": "ipython3",
   "version": "3.5.4"
  }
 },
 "nbformat": 4,
 "nbformat_minor": 2
}
